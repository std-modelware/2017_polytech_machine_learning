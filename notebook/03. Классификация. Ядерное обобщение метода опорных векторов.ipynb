{
 "cells": [
  {
   "cell_type": "code",
   "execution_count": 1,
   "metadata": {},
   "outputs": [
    {
     "data": {
      "application/vnd.jupyter.widget-view+json": {
       "model_id": "e537d6e8cea4454caa44bdc545175a9d",
       "version_major": 2,
       "version_minor": 0
      },
      "text/plain": [
       "A Jupyter Widget"
      ]
     },
     "metadata": {},
     "output_type": "display_data"
    }
   ],
   "source": [
    "from ipywidgets import interact, fixed\n",
    "\n",
    "%matplotlib inline\n",
    "import numpy as np\n",
    "import matplotlib.pyplot as plt\n",
    "from sklearn.datasets.samples_generator import make_circles\n",
    "from sklearn.svm import SVC\n",
    "    \n",
    "xmin = -2\n",
    "xmax = 2\n",
    "ymin = -2\n",
    "ymax = 2\n",
    "\n",
    "def f(N=10, factor=.1, noise=.1, C=100):\n",
    "    \n",
    "    X, y = make_circles(n_samples=N, random_state=0, factor=factor, noise=noise)\n",
    "\n",
    "    model = SVC(kernel='rbf', C=C)\n",
    "    model.fit(X, y)\n",
    "\n",
    "    plt.figure(figsize=(20,10));\n",
    "    plt.scatter(X[:, 0], X[:, 1], c=y, s=50, cmap='Dark2')\n",
    "    plt.xlim(xmin, xmax)\n",
    "    plt.ylim(ymin, ymax)\n",
    "    plt.title('N = {}, factor={}, noise={}, C={}'.format(N, factor, noise, C));\n",
    "    \n",
    "    x = np.linspace(xmin, xmax, 30)\n",
    "    y = np.linspace(ymin, ymax, 30)\n",
    "    \n",
    "    Y, X = np.meshgrid(y, x)\n",
    "    xy = np.vstack([X.ravel(), Y.ravel()]).T\n",
    "    \n",
    "    P = model.decision_function(xy).reshape(X.shape)\n",
    "    plt.contour(X, Y, P, colors='r', levels=[-1, 0, 1], alpha=0.5, linestyles=['--', '-', '--'])    \n",
    "    \n",
    "interact(f, N=(5,300,10), factor=(0.1,1,0.1), noise=(0.1,1,0.1), C=[1,100]);"
   ]
  },
  {
   "cell_type": "code",
   "execution_count": 2,
   "metadata": {},
   "outputs": [
    {
     "data": {
      "application/vnd.jupyter.widget-view+json": {
       "model_id": "b92ba23a775d4a6db72a47e1043cfe7c",
       "version_major": 2,
       "version_minor": 0
      },
      "text/plain": [
       "A Jupyter Widget"
      ]
     },
     "metadata": {},
     "output_type": "display_data"
    }
   ],
   "source": [
    "from mpl_toolkits import mplot3d\n",
    "\n",
    "X, y = make_circles(n_samples=300, random_state=0, factor=0.1, noise=0.2)\n",
    "\n",
    "r = np.exp(-((X+1) ** 2).sum(1))\n",
    "\n",
    "def plot_3D(elev=30, azim=30, X=X, y=y):\n",
    "    plt.figure(figsize=(20,10))\n",
    "    ax = plt.subplot(projection='3d')\n",
    "    ax.scatter3D(X[:, 0], X[:, 1], r, c=y, s=50, cmap='autumn')\n",
    "    ax.view_init(elev=elev, azim=azim)\n",
    "    ax.set_xlabel('x')\n",
    "    ax.set_ylabel('y')\n",
    "    ax.set_zlabel('r')\n",
    "    #plt.savefig('out/svc_3d.png', dpi=300)\n",
    "\n",
    "interact(plot_3D, elev=(-90, 90), azip=(-180, 180), X=fixed(X), y=fixed(y));"
   ]
  }
 ],
 "metadata": {
  "kernelspec": {
   "display_name": "Python 3",
   "language": "python",
   "name": "python3"
  },
  "language_info": {
   "codemirror_mode": {
    "name": "ipython",
    "version": 3
   },
   "file_extension": ".py",
   "mimetype": "text/x-python",
   "name": "python",
   "nbconvert_exporter": "python",
   "pygments_lexer": "ipython3",
   "version": "3.6.3"
  }
 },
 "nbformat": 4,
 "nbformat_minor": 2
}
