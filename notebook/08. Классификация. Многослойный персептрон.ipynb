{
 "cells": [
  {
   "cell_type": "code",
   "execution_count": 1,
   "metadata": {},
   "outputs": [
    {
     "data": {
      "application/vnd.jupyter.widget-view+json": {
       "model_id": "5c50fc7d387d4e8b8a86631c54050a85",
       "version_major": 2,
       "version_minor": 0
      },
      "text/plain": [
       "A Jupyter Widget"
      ]
     },
     "metadata": {},
     "output_type": "display_data"
    }
   ],
   "source": [
    "%matplotlib inline\n",
    "import numpy as np\n",
    "import matplotlib.pyplot as plt\n",
    "from scipy import stats\n",
    "import seaborn as sns; sns.set()\n",
    "from sklearn.datasets.samples_generator import make_blobs\n",
    "from sklearn import neighbors, datasets\n",
    "from sklearn.neural_network import MLPClassifier\n",
    "\n",
    "from ipywidgets import interact\n",
    "import ipywidgets as widgets\n",
    "\n",
    "x_min = -12\n",
    "x_max = 12\n",
    "y_min = -12\n",
    "y_max = 12\n",
    "\n",
    "h = 0.1\n",
    "\n",
    "#def f(n_samples=50, centers=2, cluster_std=1, n_neighbors = 3, weights = 'distance', save=False) :\n",
    "def f(n_samples=50, centers=2, cluster_std=1, solver='lbfgs', save=False) :\n",
    "    X, y = make_blobs(n_samples=n_samples, centers=centers, random_state=10, cluster_std=cluster_std)\n",
    "    \n",
    "    clf = MLPClassifier(solver=solver, random_state=0, hidden_layer_sizes=[10])\n",
    "    clf.fit(X, y)\n",
    "    \n",
    "    xx, yy = np.meshgrid(np.arange(x_min, x_max, h), np.arange(y_min, y_max, h))\n",
    "    zz = clf.predict(np.c_[xx.ravel(), yy.ravel()])\n",
    "    zz = zz.reshape(xx.shape)\n",
    "    \n",
    "    plt.figure(figsize=(20,10))\n",
    "    plt.pcolormesh(xx, yy, zz, cmap='tab20b')\n",
    "    plt.title(\"n_samples = %i, centers = %i, cluster_std = %0.2f\" % (n_samples, centers, cluster_std));\n",
    "    plt.xlim(x_min, x_max);\n",
    "    plt.ylim(y_min, y_max);    \n",
    "    plt.scatter(X[:, 0], X[:, 1], c=y, s=20, cmap='tab20b', edgecolors='k', linewidths=0.5);\n",
    "    if (save):\n",
    "        plt.savefig('out/neuro-network.png', dpi=300)\n",
    "\n",
    "interact(f, n_samples=(50, 1000, 50), centers=(2,10), cluster_std=[0.1, 0.5, 1, 1.5, 2, 2.5, 3], solver=['lbfgs', 'sgd', 'adam'] ,save=False);"
   ]
  }
 ],
 "metadata": {
  "kernelspec": {
   "display_name": "Python 3",
   "language": "python",
   "name": "python3"
  },
  "language_info": {
   "codemirror_mode": {
    "name": "ipython",
    "version": 3
   },
   "file_extension": ".py",
   "mimetype": "text/x-python",
   "name": "python",
   "nbconvert_exporter": "python",
   "pygments_lexer": "ipython3",
   "version": "3.6.3"
  }
 },
 "nbformat": 4,
 "nbformat_minor": 2
}
