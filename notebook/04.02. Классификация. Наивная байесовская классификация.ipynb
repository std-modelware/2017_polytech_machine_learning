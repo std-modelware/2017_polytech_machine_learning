{
 "cells": [
  {
   "cell_type": "code",
   "execution_count": 1,
   "metadata": {
    "collapsed": true
   },
   "outputs": [],
   "source": [
    "import warnings\n",
    "warnings.filterwarnings('ignore')\n",
    "import seaborn as sns\n",
    "iris = sns.load_dataset('iris')\n",
    "X_iris = iris.drop('species', axis=1)\n",
    "y_iris = iris['species']"
   ]
  },
  {
   "cell_type": "code",
   "execution_count": 2,
   "metadata": {},
   "outputs": [
    {
     "data": {
      "text/html": [
       "<div>\n",
       "<style>\n",
       "    .dataframe thead tr:only-child th {\n",
       "        text-align: right;\n",
       "    }\n",
       "\n",
       "    .dataframe thead th {\n",
       "        text-align: left;\n",
       "    }\n",
       "\n",
       "    .dataframe tbody tr th {\n",
       "        vertical-align: top;\n",
       "    }\n",
       "</style>\n",
       "<table border=\"1\" class=\"dataframe\">\n",
       "  <thead>\n",
       "    <tr style=\"text-align: right;\">\n",
       "      <th></th>\n",
       "      <th>sepal_length</th>\n",
       "      <th>sepal_width</th>\n",
       "      <th>petal_length</th>\n",
       "      <th>petal_width</th>\n",
       "    </tr>\n",
       "  </thead>\n",
       "  <tbody>\n",
       "    <tr>\n",
       "      <th>0</th>\n",
       "      <td>5.1</td>\n",
       "      <td>3.5</td>\n",
       "      <td>1.4</td>\n",
       "      <td>0.2</td>\n",
       "    </tr>\n",
       "    <tr>\n",
       "      <th>1</th>\n",
       "      <td>4.9</td>\n",
       "      <td>3.0</td>\n",
       "      <td>1.4</td>\n",
       "      <td>0.2</td>\n",
       "    </tr>\n",
       "    <tr>\n",
       "      <th>2</th>\n",
       "      <td>4.7</td>\n",
       "      <td>3.2</td>\n",
       "      <td>1.3</td>\n",
       "      <td>0.2</td>\n",
       "    </tr>\n",
       "    <tr>\n",
       "      <th>3</th>\n",
       "      <td>4.6</td>\n",
       "      <td>3.1</td>\n",
       "      <td>1.5</td>\n",
       "      <td>0.2</td>\n",
       "    </tr>\n",
       "    <tr>\n",
       "      <th>4</th>\n",
       "      <td>5.0</td>\n",
       "      <td>3.6</td>\n",
       "      <td>1.4</td>\n",
       "      <td>0.2</td>\n",
       "    </tr>\n",
       "  </tbody>\n",
       "</table>\n",
       "</div>"
      ],
      "text/plain": [
       "   sepal_length  sepal_width  petal_length  petal_width\n",
       "0           5.1          3.5           1.4          0.2\n",
       "1           4.9          3.0           1.4          0.2\n",
       "2           4.7          3.2           1.3          0.2\n",
       "3           4.6          3.1           1.5          0.2\n",
       "4           5.0          3.6           1.4          0.2"
      ]
     },
     "execution_count": 2,
     "metadata": {},
     "output_type": "execute_result"
    }
   ],
   "source": [
    "X_iris.head()"
   ]
  },
  {
   "cell_type": "code",
   "execution_count": 3,
   "metadata": {},
   "outputs": [
    {
     "data": {
      "text/plain": [
       "0    setosa\n",
       "1    setosa\n",
       "2    setosa\n",
       "3    setosa\n",
       "4    setosa\n",
       "Name: species, dtype: object"
      ]
     },
     "execution_count": 3,
     "metadata": {},
     "output_type": "execute_result"
    }
   ],
   "source": [
    "y_iris.head()"
   ]
  },
  {
   "cell_type": "code",
   "execution_count": 4,
   "metadata": {},
   "outputs": [
    {
     "name": "stderr",
     "output_type": "stream",
     "text": [
      "C:\\Users\\denis\\Anaconda3\\lib\\site-packages\\sklearn\\cross_validation.py:41: DeprecationWarning: This module was deprecated in version 0.18 in favor of the model_selection module into which all the refactored classes and functions are moved. Also note that the interface of the new CV iterators are different from that of this module. This module will be removed in 0.20.\n",
      "  \"This module will be removed in 0.20.\", DeprecationWarning)\n"
     ]
    }
   ],
   "source": [
    "from sklearn.cross_validation import train_test_split\n",
    "Xtrain, Xtest, ytrain, ytest = train_test_split(X_iris, y_iris, random_state=1)"
   ]
  },
  {
   "cell_type": "code",
   "execution_count": 5,
   "metadata": {
    "collapsed": true
   },
   "outputs": [],
   "source": [
    "from sklearn.naive_bayes import GaussianNB\n",
    "model = GaussianNB()\n",
    "model.fit(Xtrain, ytrain)\n",
    "y_model = model.predict(Xtest)\n",
    "y_model_proba = model.predict_proba(Xtest)"
   ]
  },
  {
   "cell_type": "code",
   "execution_count": 6,
   "metadata": {},
   "outputs": [
    {
     "data": {
      "text/plain": [
       "0.97368421052631582"
      ]
     },
     "execution_count": 6,
     "metadata": {},
     "output_type": "execute_result"
    }
   ],
   "source": [
    "from sklearn.metrics import accuracy_score\n",
    "accuracy_score(ytest, y_model)"
   ]
  },
  {
   "cell_type": "code",
   "execution_count": 7,
   "metadata": {},
   "outputs": [
    {
     "data": {
      "text/plain": [
       "array([[  1.00000000e+000,   1.45222626e-017,   8.89384389e-024],\n",
       "       [  5.09981050e-032,   9.99999222e-001,   7.77945362e-007],\n",
       "       [  4.32830671e-101,   9.72679167e-001,   2.73208326e-002],\n",
       "       [  1.00000000e+000,   1.06261966e-015,   2.10795947e-022],\n",
       "       [  2.12952227e-272,   1.77335273e-009,   9.99999998e-001],\n",
       "       [  3.12379408e-123,   5.04162130e-001,   4.95837870e-001],\n",
       "       [  1.17143228e-195,   7.43947100e-007,   9.99999256e-001],\n",
       "       [  1.00000000e+000,   1.00965721e-011,   2.09768621e-018],\n",
       "       [  1.00000000e+000,   3.65082991e-016,   2.94913557e-023],\n",
       "       [  2.93821653e-234,   2.11616765e-008,   9.99999979e-001],\n",
       "       [  7.55136626e-084,   9.99488916e-001,   5.11084349e-004],\n",
       "       [  1.00000000e+000,   2.31886033e-013,   5.94346293e-020],\n",
       "       [  1.55508946e-235,   2.57895372e-007,   9.99999742e-001],\n",
       "       [  6.95090262e-109,   8.90046011e-001,   1.09953989e-001],\n",
       "       [  1.18501213e-107,   9.65832377e-001,   3.41676229e-002],\n",
       "       [  1.00000000e+000,   7.28094251e-018,   4.32307624e-025],\n",
       "       [  3.84719458e-072,   9.99893926e-001,   1.06074171e-004],\n",
       "       [  5.76631562e-106,   9.75673834e-001,   2.43261659e-002],\n",
       "       [  1.00000000e+000,   1.89996727e-013,   2.06246178e-020],\n",
       "       [  1.00000000e+000,   1.54376717e-017,   1.24294299e-024],\n",
       "       [  4.40587116e-089,   9.99627529e-001,   3.72470745e-004],\n",
       "       [  2.22179269e-105,   9.80598798e-001,   1.94012022e-002],\n",
       "       [  2.33124047e-148,   5.02975053e-002,   9.49702495e-001],\n",
       "       [  1.00000000e+000,   6.79906073e-017,   6.68764539e-024],\n",
       "       [  9.14936960e-224,   9.41712272e-006,   9.99990583e-001],\n",
       "       [  1.43654299e-079,   9.99517069e-001,   4.82930886e-004],\n",
       "       [  1.00000000e+000,   1.38564349e-018,   7.68328832e-025],\n",
       "       [  1.00000000e+000,   1.17345954e-016,   2.12000497e-023],\n",
       "       [  7.36330022e-106,   9.94823000e-001,   5.17699959e-003],\n",
       "       [  1.94051496e-158,   1.85448144e-002,   9.81455186e-001],\n",
       "       [  2.12714203e-108,   9.72660719e-001,   2.73392814e-002],\n",
       "       [  3.46407769e-270,   3.42270306e-010,   1.00000000e+000],\n",
       "       [  6.91335350e-064,   9.99978003e-001,   2.19969860e-005],\n",
       "       [  5.81333707e-210,   1.03759778e-005,   9.99989624e-001],\n",
       "       [  1.86846182e-197,   1.22545651e-006,   9.99998775e-001],\n",
       "       [  1.00000000e+000,   4.15470355e-017,   1.10593878e-023],\n",
       "       [  1.40721299e-075,   9.99921681e-001,   7.83192039e-005],\n",
       "       [  1.00000000e+000,   4.72529214e-017,   6.87521447e-024]])"
      ]
     },
     "execution_count": 7,
     "metadata": {},
     "output_type": "execute_result"
    }
   ],
   "source": [
    "y_model_proba"
   ]
  }
 ],
 "metadata": {
  "kernelspec": {
   "display_name": "Python 3",
   "language": "python",
   "name": "python3"
  },
  "language_info": {
   "codemirror_mode": {
    "name": "ipython",
    "version": 3
   },
   "file_extension": ".py",
   "mimetype": "text/x-python",
   "name": "python",
   "nbconvert_exporter": "python",
   "pygments_lexer": "ipython3",
   "version": "3.6.3"
  }
 },
 "nbformat": 4,
 "nbformat_minor": 2
}
