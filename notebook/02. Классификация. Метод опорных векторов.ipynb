{
 "cells": [
  {
   "cell_type": "code",
   "execution_count": 1,
   "metadata": {},
   "outputs": [
    {
     "data": {
      "application/vnd.jupyter.widget-view+json": {
       "model_id": "350e8874cdcb4ed88d6d101095894357",
       "version_major": 2,
       "version_minor": 0
      },
      "text/plain": [
       "A Jupyter Widget"
      ]
     },
     "metadata": {},
     "output_type": "display_data"
    }
   ],
   "source": [
    "from ipywidgets import interact\n",
    "\n",
    "%matplotlib inline\n",
    "import numpy as np\n",
    "import matplotlib.pyplot as plt\n",
    "from sklearn.datasets.samples_generator import make_blobs\n",
    "from sklearn.svm import SVC\n",
    "    \n",
    "xmin = -1\n",
    "xmax = 4\n",
    "ymin = -1\n",
    "ymax = 6\n",
    "def f(N=10, kernel='linear', cluster_std=0.6, C=100):\n",
    "    \n",
    "    X, y = make_blobs(n_samples=N, centers=2, random_state=0, cluster_std=cluster_std)\n",
    "    model = SVC(kernel=kernel, C=C)\n",
    "    model.fit(X, y)\n",
    "\n",
    "    plt.figure(figsize=(20,10));\n",
    "    plt.scatter(X[:, 0], X[:, 1], c=y, s=50, cmap='Dark2')\n",
    "    plt.xlim(xmin, xmax)\n",
    "    plt.ylim(ymin, ymax)\n",
    "    plt.title('N = {}, kernel={}, cluster_std={}, C={}'.format(N, kernel, cluster_std, C));\n",
    "    \n",
    "    x = np.linspace(xmin, xmax, 30)\n",
    "    y = np.linspace(ymin, ymax, 30)\n",
    "    \n",
    "    Y, X = np.meshgrid(y, x)\n",
    "    xy = np.vstack([X.ravel(), Y.ravel()]).T\n",
    "    \n",
    "    P = model.decision_function(xy).reshape(X.shape)\n",
    "    plt.contour(X, Y, P, colors='r', levels=[-1, 0, 1], alpha=0.5, linestyles=['--', '-', '--'])    \n",
    "    \n",
    "interact(f, N=(5,200,10), kernel=['linear', 'poly', 'rbf' ], cluster_std=(0.1,1.5,0.1), C=[1,100, 1E7]);"
   ]
  }
 ],
 "metadata": {
  "kernelspec": {
   "display_name": "Python 3",
   "language": "python",
   "name": "python3"
  },
  "language_info": {
   "codemirror_mode": {
    "name": "ipython",
    "version": 3
   },
   "file_extension": ".py",
   "mimetype": "text/x-python",
   "name": "python",
   "nbconvert_exporter": "python",
   "pygments_lexer": "ipython3",
   "version": "3.6.3"
  }
 },
 "nbformat": 4,
 "nbformat_minor": 2
}
