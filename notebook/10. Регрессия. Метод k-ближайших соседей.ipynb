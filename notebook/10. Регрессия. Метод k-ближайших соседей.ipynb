{
 "cells": [
  {
   "cell_type": "code",
   "execution_count": 1,
   "metadata": {},
   "outputs": [
    {
     "data": {
      "application/vnd.jupyter.widget-view+json": {
       "model_id": "3bca72f51f9c440ca14df12fe5d7c648",
       "version_major": 2,
       "version_minor": 0
      },
      "text/plain": [
       "A Jupyter Widget"
      ]
     },
     "metadata": {},
     "output_type": "display_data"
    }
   ],
   "source": [
    "# Author: Alexandre Gramfort <alexandre.gramfort@inria.fr>\n",
    "#         Fabian Pedregosa <fabian.pedregosa@inria.fr>\n",
    "#\n",
    "# License: BSD 3 clause (C) INRIA\n",
    "\n",
    "\n",
    "# #############################################################################\n",
    "# Generate sample data\n",
    "from __future__ import print_function\n",
    "from ipywidgets import interact, interactive, fixed, interact_manual\n",
    "import ipywidgets as widgets\n",
    "\n",
    "%matplotlib inline\n",
    "\n",
    "import numpy as np\n",
    "import matplotlib.pyplot as plt\n",
    "from sklearn import neighbors\n",
    "\n",
    "\n",
    "\n",
    "# Add noise to targets\n",
    "#y[::5] += 1 * (0.5 - np.random.rand(8))\n",
    "\n",
    "# #############################################################################\n",
    "# Fit regression model\n",
    "def f(n_neighbors = 1, weights='uniform', n = 40):\n",
    "    np.random.seed(0)\n",
    "    X = np.sort(5 * np.random.rand(n, 1), axis=0)\n",
    "    T = np.linspace(0, 5, 500)[:, np.newaxis]\n",
    "    y = np.sin(X).ravel()\n",
    "    y_t = np.sin(T).ravel()\n",
    "    knn = neighbors.KNeighborsRegressor(n_neighbors, weights=weights)\n",
    "    y_ = knn.fit(X, y).predict(T)\n",
    "    plt.figure(figsize=(20,10))\n",
    "    plt.scatter(X, y, c='k', label='data')\n",
    "    plt.plot(T, y_, c='g', label='prediction')\n",
    "    plt.plot(T, y_t, c='r', label='true function')\n",
    "    plt.axis('tight')\n",
    "    plt.legend()\n",
    "    plt.title(\"KNeighborsRegressor k-neighbors-reg.png = %i, weights = '%s')\" % (n_neighbors, weights))\n",
    "    #plt.savefig('out/k-neighbors-reg.png', dpi=300)\n",
    "\n",
    "\n",
    "interact(f, n_neighbors=(1,20), weights=['uniform', 'distance'], n=(50,200,10));"
   ]
  }
 ],
 "metadata": {
  "kernelspec": {
   "display_name": "Python 3",
   "language": "python",
   "name": "python3"
  },
  "language_info": {
   "codemirror_mode": {
    "name": "ipython",
    "version": 3
   },
   "file_extension": ".py",
   "mimetype": "text/x-python",
   "name": "python",
   "nbconvert_exporter": "python",
   "pygments_lexer": "ipython3",
   "version": "3.6.3"
  }
 },
 "nbformat": 4,
 "nbformat_minor": 2
}
