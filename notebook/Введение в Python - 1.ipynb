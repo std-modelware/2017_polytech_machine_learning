{
 "cells": [
  {
   "cell_type": "markdown",
   "metadata": {},
   "source": [
    "Уильям Эдвард Деминг:\n",
    "> Мы верим только Богу, а все остальные должны приносить данные."
   ]
  },
  {
   "cell_type": "code",
   "execution_count": null,
   "metadata": {},
   "outputs": [],
   "source": [
    "# Заголовки\n",
    "import numpy as np\n",
    "import pandas as pd\n",
    "\n",
    "print('numpy:',  np.__version__)\n",
    "print('pandas:',  pd.__version__)"
   ]
  },
  {
   "cell_type": "code",
   "execution_count": null,
   "metadata": {},
   "outputs": [],
   "source": [
    "# Загрузка данных\n",
    "# pd.read_csv('data/iris.csv', header=None)\n",
    "df = pd.read_csv('data/iris.csv')\n",
    "df"
   ]
  },
  {
   "cell_type": "code",
   "execution_count": null,
   "metadata": {
    "collapsed": true
   },
   "outputs": [],
   "source": [
    "# Размерность данных\n",
    "#df.shape\n",
    "#print (df)\n",
    "#print ('shape = ', df.shape)\n",
    "#'shape = {0}'.format(df.shape)"
   ]
  },
  {
   "cell_type": "code",
   "execution_count": null,
   "metadata": {},
   "outputs": [],
   "source": [
    "# Просмотр данных\n",
    "df.head()\n",
    "#df.tail(10)\n",
    "#df['sepal_length'].head()\n",
    "#df.sepal_length.head()\n",
    "#df.sepal_length[0:15]\n",
    "#df[['sepal_length', 'petal_width']].head()\n",
    "#print(df.head(5))\n",
    "#print(df.loc[0])\n",
    "#print(df.loc[0]['sepal_length'])\n",
    "#print(df[0:3])\n",
    "#print(df.loc[0, ['sepal_length', 'petal_width']])\n",
    "#print(df.loc[0:5, ['sepal_length', 'petal_width']])\n",
    "#print(df.loc[0:5:2, ['sepal_length', 'petal_width']])\n",
    "#df.at[0, 'sepal_length']"
   ]
  },
  {
   "cell_type": "code",
   "execution_count": null,
   "metadata": {},
   "outputs": [],
   "source": [
    "#Переименование столбцов\n",
    "df.head()\n",
    "#df.columns = ['sepal_length1', 'sepal_width1', 'petal_length1', 'petal_width1','species1']\n",
    "#df.columns = ['sepal_length', 'sepal_width', 'petal_length', 'petal_width','species']\n",
    "#---v\n",
    "#df_copy = df.rename(columns={'species':'species!'})\n",
    "#print(df.head())\n",
    "#print(df_copy.head())\n",
    "#---^"
   ]
  },
  {
   "cell_type": "code",
   "execution_count": null,
   "metadata": {},
   "outputs": [],
   "source": [
    "# Типы данных\n",
    "df.dtypes\n",
    "#df['sepal_length'].dtype\n",
    "#df['sepal_length'] = df['sepal_length'].astype('float32');\n",
    "#type(df)\n",
    "#type(df.sepal_length)\n",
    "#type(df.loc[0])"
   ]
  },
  {
   "cell_type": "code",
   "execution_count": null,
   "metadata": {
    "collapsed": true
   },
   "outputs": [],
   "source": [
    "# Индекс\n",
    "df.head()\n",
    "#df.index = df['petal_width']\n",
    "#df.index = range(len(df.index))"
   ]
  },
  {
   "cell_type": "code",
   "execution_count": null,
   "metadata": {},
   "outputs": [],
   "source": [
    "# Копирование данных\n",
    "df_copy = df.copy()\n",
    "df_copy.loc[0, 'sepal_length'] = 1115\n",
    "print(df.loc[0:1])\n",
    "print(df_copy[0:2])"
   ]
  },
  {
   "cell_type": "code",
   "execution_count": null,
   "metadata": {
    "collapsed": true
   },
   "outputs": [],
   "source": [
    "# Добавление и удаление столбцов\n",
    "df.head()\n",
    "#df.shape\n",
    "#---v\n",
    "#df_column = df['species']\n",
    "#del df['species']\n",
    "#df.head()\n",
    "#---^\n",
    "#df.shape\n",
    "#df_column\n",
    "#df['new_species'] = df_column\n",
    "#---v\n",
    "#df['sepal_length_doubled'] = df['sepal_length'] * 2\n",
    "#df.head()\n",
    "#---^\n",
    "#---v\n",
    "#new_col = df['sepal_length'] * 2\n",
    "#df.insert(0,'sepal_length_doubled', new_col)\n",
    "#df.head()\n",
    "#---^"
   ]
  },
  {
   "cell_type": "code",
   "execution_count": null,
   "metadata": {
    "collapsed": true
   },
   "outputs": [],
   "source": [
    "# Фильтрация\n",
    "#df.species == 'setosa'\n",
    "#print(df[df.species == 'setosa'].shape)\n",
    "#print(df[df.sepal_length > 5].shape)\n",
    "#print(df[(df.species == 'setosa') & (df.sepal_length > 5) ].shape)\n",
    "#print(df[(df.species == 'setosa') | (df.sepal_length > 5) ].shape)\n",
    "#print(df[(df.species == 'setosa') | (df.sepal_length > 5) ]['sepal_length'])\n",
    "#print(df[(df.species == 'setosa') | (df.sepal_length > 5) ][['sepal_length', 'sepal_width']])"
   ]
  },
  {
   "cell_type": "code",
   "execution_count": null,
   "metadata": {
    "collapsed": true
   },
   "outputs": [],
   "source": [
    "# Добавление и удаление строк\n",
    "#---v\n",
    "#df_1 = df.head()\n",
    "#df_2 = df.tail()\n",
    "#df_3 = df_1.append(df_2)\n",
    "#df_4 = df_1.append(df_2, ignore_index=True)\n",
    "#print(df_3)\n",
    "#print(df_4)\n",
    "#---^\n",
    "#---v\n",
    "#df_1 = df.head()\n",
    "#df_2 = df_1.drop([1,2,3])\n",
    "#print(df_1)\n",
    "#print(df_2)\n",
    "#---^\n",
    "#---v\n",
    "#df_1 = df.head()\n",
    "#df_2 = df_1.drop(np.arange(1, 4))\n",
    "#print(df_1)\n",
    "#print(df_2)\n",
    "#---^\n",
    "#df.sepal_length > 7\n",
    "#df[df.sepal_length > 7]\n",
    "#df[df.sepal_length > 7].shape\n",
    "#~(df.sepal_length > 7)\n",
    "#df[~(df.sepal_length > 7)]\n",
    "#df[~(df.sepal_length > 7)].shape"
   ]
  }
 ],
 "metadata": {
  "kernelspec": {
   "display_name": "Python 3",
   "language": "python",
   "name": "python3"
  },
  "language_info": {
   "codemirror_mode": {
    "name": "ipython",
    "version": 3
   },
   "file_extension": ".py",
   "mimetype": "text/x-python",
   "name": "python",
   "nbconvert_exporter": "python",
   "pygments_lexer": "ipython3",
   "version": "3.6.1"
  }
 },
 "nbformat": 4,
 "nbformat_minor": 2
}
