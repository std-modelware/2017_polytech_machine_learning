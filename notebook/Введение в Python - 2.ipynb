{
 "cells": [
  {
   "cell_type": "code",
   "execution_count": null,
   "metadata": {
    "collapsed": true
   },
   "outputs": [],
   "source": [
    "# Заголовки\n",
    "import math\n",
    "from sklearn import datasets\n",
    "import matplotlib\n",
    "import numpy as np\n",
    "import pandas as pd\n",
    "import matplotlib.pyplot as plt"
   ]
  },
  {
   "cell_type": "code",
   "execution_count": null,
   "metadata": {},
   "outputs": [],
   "source": [
    "# Загрузка данных\n",
    "iris_dataset = datasets.load_iris()\n",
    "iris_dataset\n",
    "#iris_dataset.keys()"
   ]
  },
  {
   "cell_type": "code",
   "execution_count": null,
   "metadata": {},
   "outputs": [],
   "source": [
    "print(iris_dataset['DESCR'])"
   ]
  },
  {
   "cell_type": "code",
   "execution_count": null,
   "metadata": {},
   "outputs": [],
   "source": [
    "iris_dataset['data']\n",
    "#iris_dataset['target']\n",
    "iris_dataset['target_names']\n",
    "#iris_dataset['feature_names']"
   ]
  },
  {
   "cell_type": "code",
   "execution_count": null,
   "metadata": {},
   "outputs": [],
   "source": [
    "columns = np.r_[iris_dataset['feature_names'], np.array(['target'])]\n",
    "columns"
   ]
  },
  {
   "cell_type": "code",
   "execution_count": null,
   "metadata": {
    "collapsed": true
   },
   "outputs": [],
   "source": [
    "rows = np.c_[iris_dataset['data'], iris_dataset['target']]\n",
    "#rows"
   ]
  },
  {
   "cell_type": "code",
   "execution_count": null,
   "metadata": {},
   "outputs": [],
   "source": [
    "iris = pd.DataFrame(data = rows, columns = columns)\n",
    "iris.head(10)"
   ]
  },
  {
   "cell_type": "code",
   "execution_count": null,
   "metadata": {
    "collapsed": true
   },
   "outputs": [],
   "source": [
    "pd.options.mode.chained_assignment = None\n",
    "\n",
    "for index, row in iris.iterrows():\n",
    "    iris.target.iloc[index] = iris_dataset['target_names'][math.floor(row['target'])]"
   ]
  },
  {
   "cell_type": "code",
   "execution_count": null,
   "metadata": {},
   "outputs": [],
   "source": [
    "#iris.columns = ['sl', 'sw', 'pl', 'pw','s']\n",
    "iris.head()"
   ]
  },
  {
   "cell_type": "code",
   "execution_count": null,
   "metadata": {
    "collapsed": true
   },
   "outputs": [],
   "source": [
    "#iris['target'] = iris['target'].astype('string');\n",
    "#iris.target == 0\n",
    "#iris_dataset['target_names'][0]\n",
    "#df.loc[mask, column_name] = 0\n",
    "#ris.loc[iris.target == 0, 'target'] = iris_dataset['target_names'][0]"
   ]
  },
  {
   "cell_type": "code",
   "execution_count": null,
   "metadata": {},
   "outputs": [],
   "source": [
    "iris['target'].value_counts()"
   ]
  },
  {
   "cell_type": "code",
   "execution_count": null,
   "metadata": {},
   "outputs": [],
   "source": [
    "iris.describe()\n",
    "#iris.cov()\n",
    "#iris.corr()"
   ]
  },
  {
   "cell_type": "code",
   "execution_count": null,
   "metadata": {
    "collapsed": true
   },
   "outputs": [],
   "source": [
    "%matplotlib inline\n",
    "#%matplotlib notebook"
   ]
  },
  {
   "cell_type": "code",
   "execution_count": null,
   "metadata": {},
   "outputs": [],
   "source": [
    "iris.hist(bins = 100, layout = (2,2), figsize = (20,20), sharex = True, sharey = False, grid = False)\n",
    "plt.savefig('out/iris_hist.png', dpi=200)"
   ]
  },
  {
   "cell_type": "code",
   "execution_count": null,
   "metadata": {},
   "outputs": [],
   "source": [
    "target_0 = iris_dataset['target_names'][0]\n",
    "target_1 = iris_dataset['target_names'][1]\n",
    "target_2 = iris_dataset['target_names'][2]\n",
    "\n",
    "sl_name = iris_dataset['feature_names'][0]\n",
    "sw_name = iris_dataset['feature_names'][1]\n",
    "pl_name = iris_dataset['feature_names'][2]\n",
    "pw_name = iris_dataset['feature_names'][3]\n",
    "\n",
    "iris_0 = iris.loc[iris['target'] == target_0]\n",
    "iris_1 = iris.loc[iris['target'] == target_1]\n",
    "iris_2 = iris.loc[iris['target'] == target_2]\n",
    "\n",
    "bins = np.linspace(0, 8, 100)\n",
    "\n",
    "plt.figure(figsize = (20,20))\n",
    "\n",
    "plt.subplot(2,2,1)\n",
    "plt.title(pl_name)\n",
    "plt.hist(iris_0[pl_name], bins = bins, alpha=0.75, label=target_0, facecolor='b')\n",
    "plt.hist(iris_1[pl_name], bins = bins, alpha=0.75, label=target_1, facecolor='r')\n",
    "plt.hist(iris_2[pl_name], bins = bins, alpha=0.75, label=target_2, facecolor='g')\n",
    "plt.legend(loc='upper right');\n",
    "\n",
    "plt.subplot(2,2,2)\n",
    "plt.title(pw_name)\n",
    "plt.hist(iris_0[pw_name], bins = bins, alpha=0.75, label=target_0, facecolor='b')\n",
    "plt.hist(iris_1[pw_name], bins = bins, alpha=0.75, label=target_1, facecolor='r')\n",
    "plt.hist(iris_2[pw_name], bins = bins, alpha=0.75, label=target_2, facecolor='g')\n",
    "plt.legend(loc='upper right');\n",
    "\n",
    "plt.subplot(2,2,3)\n",
    "plt.title(sl_name)\n",
    "plt.hist(iris_0[sl_name], bins = bins, alpha=0.75, label=target_0, facecolor='b')\n",
    "plt.hist(iris_1[sl_name], bins = bins, alpha=0.75, label=target_1, facecolor='r')\n",
    "plt.hist(iris_2[sl_name], bins = bins, alpha=0.75, label=target_2, facecolor='g')\n",
    "plt.legend(loc='upper right');\n",
    "\n",
    "plt.subplot(2,2,4)\n",
    "plt.title(sw_name)\n",
    "plt.hist(iris_0[sw_name], bins = bins, alpha=0.75, label=target_0, facecolor='b')\n",
    "plt.hist(iris_1[sw_name], bins = bins, alpha=0.75, label=target_1, facecolor='r')\n",
    "plt.hist(iris_2[sw_name], bins = bins, alpha=0.75, label=target_2, facecolor='g')\n",
    "plt.legend(loc='upper right');\n",
    "\n",
    "plt.savefig('out/iris_hist_color.png', dpi=200)"
   ]
  },
  {
   "cell_type": "code",
   "execution_count": null,
   "metadata": {},
   "outputs": [],
   "source": [
    "#iris_mean = iris['sepal length (cm)'].mean()\n",
    "#iris_min = iris['sepal length (cm)'].min()\n",
    "#iris_max = iris['sepal length (cm)'].max()\n",
    "#iris_median = iris['sepal length (cm)'].median()\n",
    "\n",
    "iris.boxplot(figsize = (20,20))\n",
    "#plt.axhline(y=iris_mean, color='r')\n",
    "#plt.axhline(y=iris_min, color='g')\n",
    "#plt.axhline(y=iris_max, color='k')\n",
    "#plt.axhline(y=iris_median, color='y')\n",
    "\n",
    "plt.savefig('out/iris_boxplot.png', dpi=200)"
   ]
  },
  {
   "cell_type": "code",
   "execution_count": null,
   "metadata": {},
   "outputs": [],
   "source": [
    "from pandas.plotting import scatter_matrix\n",
    "a = scatter_matrix(iris, figsize=(10,10))"
   ]
  },
  {
   "cell_type": "code",
   "execution_count": null,
   "metadata": {},
   "outputs": [],
   "source": [
    "target_0 = iris_dataset['target_names'][0]\n",
    "target_1 = iris_dataset['target_names'][1]\n",
    "target_2 = iris_dataset['target_names'][2]\n",
    "\n",
    "sl_name = iris_dataset['feature_names'][0]\n",
    "sw_name = iris_dataset['feature_names'][1]\n",
    "pl_name = iris_dataset['feature_names'][2]\n",
    "pw_name = iris_dataset['feature_names'][3]\n",
    "\n",
    "def draw_scatter(index_1, index_2):\n",
    "    c = 'b'\n",
    "    marker = 'o'\n",
    "    plt.scatter(iris.loc[iris['target'] == target_0][index_1],\n",
    "                iris.loc[iris['target'] == target_0][index_2],\n",
    "                marker = marker, c = c)\n",
    "\n",
    "    c = 'r'\n",
    "    marker = 'o'\n",
    "    plt.scatter(iris.loc[iris['target'] == target_1][index_1],\n",
    "                iris.loc[iris['target'] == target_1][index_2],\n",
    "                marker = marker, c = c)\n",
    "\n",
    "    c = 'g'\n",
    "    marker = 'o'\n",
    "    plt.scatter(iris.loc[iris['target'] == target_2][index_1],\n",
    "                iris.loc[iris['target'] == target_2][index_2],\n",
    "                marker = marker, c = c)\n",
    "\n",
    "\n",
    "fig = plt.figure(figsize = (20,20))\n",
    "\n",
    "plt.subplot(4,4,1)\n",
    "plt.title(sl_name)\n",
    "draw_scatter(sl_name, sl_name);\n",
    "\n",
    "plt.subplot(4,4,2)\n",
    "plt.title(sl_name + \" / \" + sw_name)\n",
    "draw_scatter(sw_name, sl_name);\n",
    "\n",
    "plt.subplot(4,4,3)\n",
    "plt.title(sl_name + \" / \" + pl_name)\n",
    "draw_scatter(pl_name,sl_name);\n",
    "\n",
    "plt.subplot(4,4,4)\n",
    "plt.title(sl_name + \" / \" + pw_name)\n",
    "draw_scatter(pw_name,sl_name);\n",
    "\n",
    "plt.subplot(4,4,6)\n",
    "plt.title(sw_name)\n",
    "draw_scatter(sw_name, sw_name);\n",
    "\n",
    "plt.subplot(4,4,7)\n",
    "plt.title(sw_name + \" / \" + pl_name)\n",
    "draw_scatter(pl_name, sw_name);\n",
    "\n",
    "plt.subplot(4,4,8)\n",
    "plt.title(sw_name + \" / \" + pw_name)\n",
    "draw_scatter(pw_name, sw_name);\n",
    "\n",
    "plt.subplot(4,4,11)\n",
    "plt.title(pl_name)\n",
    "draw_scatter(pl_name, pl_name);\n",
    "\n",
    "plt.subplot(4,4,12)\n",
    "plt.title(pl_name + \" / \" + pw_name)\n",
    "draw_scatter(pw_name, pl_name);\n",
    "\n",
    "plt.subplot(4,4,16)\n",
    "plt.title(pw_name)\n",
    "draw_scatter(pw_name, pw_name);\n",
    "\n",
    "plt.savefig('out/iris_scatter.png', dpi=300)"
   ]
  }
 ],
 "metadata": {
  "kernelspec": {
   "display_name": "Python 3",
   "language": "python",
   "name": "python3"
  },
  "language_info": {
   "codemirror_mode": {
    "name": "ipython",
    "version": 3
   },
   "file_extension": ".py",
   "mimetype": "text/x-python",
   "name": "python",
   "nbconvert_exporter": "python",
   "pygments_lexer": "ipython3",
   "version": "3.6.1"
  }
 },
 "nbformat": 4,
 "nbformat_minor": 2
}
